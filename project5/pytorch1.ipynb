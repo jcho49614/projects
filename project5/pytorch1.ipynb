{
  "nbformat": 4,
  "nbformat_minor": 0,
  "metadata": {
    "colab": {
      "provenance": [],
      "gpuType": "T4"
    },
    "kernelspec": {
      "name": "python3",
      "display_name": "Python 3"
    },
    "language_info": {
      "name": "python"
    },
    "accelerator": "GPU"
  },
  "cells": [
    {
      "cell_type": "code",
      "execution_count": null,
      "metadata": {
        "id": "tNxEqOt1q_CT"
      },
      "outputs": [],
      "source": [
        "import torch\n",
        "from torch import nn, optim\n",
        "from torch.utils.data import DataLoader\n",
        "from torchvision import datasets, transforms\n",
        "import matplotlib.pyplot as plt"
      ]
    },
    {
      "cell_type": "code",
      "source": [
        "transform = transforms.ToTensor() #make a initial transform."
      ],
      "metadata": {
        "id": "R5KhKQiirKux"
      },
      "execution_count": null,
      "outputs": []
    },
    {
      "cell_type": "code",
      "source": [
        "#allocate training data and testing data.\n",
        "train_data = datasets.FashionMNIST(\n",
        "    root = 'data',\n",
        "    train = True,\n",
        "    download = True,\n",
        "    transform = transform\n",
        ")\n",
        "\n",
        "test_data = datasets.FashionMNIST(\n",
        "    root = 'data',\n",
        "    train = False,\n",
        "    download = True,\n",
        "    transform = transform\n",
        "\n",
        ")"
      ],
      "metadata": {
        "colab": {
          "base_uri": "https://localhost:8080/"
        },
        "id": "gRhz0d53rOCw",
        "outputId": "4bb55fcc-f62a-48fb-8563-e6b5c34ed5c4"
      },
      "execution_count": null,
      "outputs": [
        {
          "output_type": "stream",
          "name": "stderr",
          "text": [
            "100%|██████████| 26.4M/26.4M [00:02<00:00, 9.19MB/s]\n",
            "100%|██████████| 29.5k/29.5k [00:00<00:00, 162kB/s]\n",
            "100%|██████████| 4.42M/4.42M [00:01<00:00, 3.09MB/s]\n",
            "100%|██████████| 5.15k/5.15k [00:00<00:00, 9.63MB/s]\n"
          ]
        }
      ]
    },
    {
      "cell_type": "code",
      "source": [
        "#create a dataloader(s).\n",
        "\n",
        "train_loader = DataLoader(\n",
        "    train_data,\n",
        "    batch_size=64,\n",
        "    shuffle = True,\n",
        "    num_workers=2, pin_memory=True\n",
        ")\n",
        "\n",
        "test_loader = DataLoader(\n",
        "    test_data,\n",
        "    batch_size = 64,\n",
        "    shuffle=False,\n",
        "    num_workers=2, pin_memory=True\n",
        ")"
      ],
      "metadata": {
        "id": "rv6sJErpsC25"
      },
      "execution_count": null,
      "outputs": []
    },
    {
      "cell_type": "code",
      "source": [
        "device = torch.device(\"cuda\" if torch.cuda.is_available() else \"cpu\")"
      ],
      "metadata": {
        "id": "ji_M6Xr0sTUO"
      },
      "execution_count": null,
      "outputs": []
    },
    {
      "cell_type": "code",
      "source": [
        "model = nn.Sequential(\n",
        "    nn.Flatten(),\n",
        "    nn.Linear(28*28, 128),\n",
        "    nn.ReLU(),\n",
        "    nn.Linear(128, 64),\n",
        "    nn.ReLU(),\n",
        "    nn.Linear(64,10)\n",
        ")"
      ],
      "metadata": {
        "id": "e3d2dLbasjMK"
      },
      "execution_count": null,
      "outputs": []
    },
    {
      "cell_type": "code",
      "source": [
        "model.to(device)"
      ],
      "metadata": {
        "id": "tip0Y_3SX7iG",
        "outputId": "98f88e5f-5764-4b7c-d838-af447bf1da76",
        "colab": {
          "base_uri": "https://localhost:8080/"
        }
      },
      "execution_count": null,
      "outputs": [
        {
          "output_type": "execute_result",
          "data": {
            "text/plain": [
              "Sequential(\n",
              "  (0): Flatten(start_dim=1, end_dim=-1)\n",
              "  (1): Linear(in_features=784, out_features=128, bias=True)\n",
              "  (2): ReLU()\n",
              "  (3): Linear(in_features=128, out_features=64, bias=True)\n",
              "  (4): ReLU()\n",
              "  (5): Linear(in_features=64, out_features=10, bias=True)\n",
              ")"
            ]
          },
          "metadata": {},
          "execution_count": 7
        }
      ]
    },
    {
      "cell_type": "code",
      "source": [
        "lossfunc = nn.CrossEntropyLoss()"
      ],
      "metadata": {
        "id": "QTHyJL2YYRIJ"
      },
      "execution_count": null,
      "outputs": []
    },
    {
      "cell_type": "code",
      "source": [
        "lossfunc"
      ],
      "metadata": {
        "id": "K4kBmUq6YhQv",
        "outputId": "ea89a4a8-c49f-446d-cb0c-f77c5e2e20bc",
        "colab": {
          "base_uri": "https://localhost:8080/"
        }
      },
      "execution_count": null,
      "outputs": [
        {
          "output_type": "execute_result",
          "data": {
            "text/plain": [
              "CrossEntropyLoss()"
            ]
          },
          "metadata": {},
          "execution_count": 9
        }
      ]
    },
    {
      "cell_type": "code",
      "source": [
        "optimizer = optim.Adam(model.parameters(), lr=0.001)"
      ],
      "metadata": {
        "id": "lfpflN1SYiiI"
      },
      "execution_count": null,
      "outputs": []
    },
    {
      "cell_type": "code",
      "source": [
        "optimizer"
      ],
      "metadata": {
        "id": "rB-0g62OYs_j",
        "outputId": "f1e6ffeb-c696-41e7-dfb8-a87921c7345b",
        "colab": {
          "base_uri": "https://localhost:8080/"
        }
      },
      "execution_count": null,
      "outputs": [
        {
          "output_type": "execute_result",
          "data": {
            "text/plain": [
              "Adam (\n",
              "Parameter Group 0\n",
              "    amsgrad: False\n",
              "    betas: (0.9, 0.999)\n",
              "    capturable: False\n",
              "    differentiable: False\n",
              "    eps: 1e-08\n",
              "    foreach: None\n",
              "    fused: None\n",
              "    lr: 0.001\n",
              "    maximize: False\n",
              "    weight_decay: 0\n",
              ")"
            ]
          },
          "metadata": {},
          "execution_count": 11
        }
      ]
    },
    {
      "cell_type": "code",
      "source": [
        "print(torch.cuda.is_available())\n",
        "print(torch.cuda.current_device())\n",
        "print(torch.cuda.get_device_name(0))\n",
        "print(torch.cuda.memory_allocated())"
      ],
      "metadata": {
        "colab": {
          "base_uri": "https://localhost:8080/"
        },
        "id": "19nQvQsclcrw",
        "outputId": "3489448c-9f50-4457-b96d-8ee4a4f922e1"
      },
      "execution_count": null,
      "outputs": [
        {
          "output_type": "stream",
          "name": "stdout",
          "text": [
            "True\n",
            "0\n",
            "Tesla T4\n",
            "438272\n"
          ]
        }
      ]
    },
    {
      "cell_type": "code",
      "source": [
        "epochs = 100\n",
        "running_loss = 0\n",
        "\n",
        "for epoch in range(epochs):\n",
        "  model.train()\n",
        "\n",
        "\n",
        "  for images, labels in train_loader: #its the training batch we made earlier.\n",
        "\n",
        "    images = images.to(device)\n",
        "    labels = labels.to(device)\n",
        "\n",
        "    #loss\n",
        "    outputs = model(images)\n",
        "    losses = lossfunc(outputs, labels)\n",
        "\n",
        "    #Backpropagation\n",
        "    optimizer.zero_grad() #clears gradient\n",
        "    losses.backward() #backward propagation -- trying again.\n",
        "    optimizer.step() #making new gradients.\n",
        "\n",
        "    running_loss += losses.item()\n",
        "\n",
        "  print(f\"Epoch {epoch}/{epochs}, RunningLoss: {running_loss:.4f}, CurrentLoss({losses.item():.4f}), memoryallocated{torch.cuda.memory_allocated()}\") #epoch out of epochs, loss running loss\n",
        "\n",
        "print(\"Average loss per batch: {}\".format(running_loss/epochs))\n"
      ],
      "metadata": {
        "id": "BNIRA4FcZ9lm",
        "colab": {
          "base_uri": "https://localhost:8080/"
        },
        "outputId": "55eb501a-72e3-4374-ddb1-c5eead7c5c83"
      },
      "execution_count": null,
      "outputs": [
        {
          "output_type": "stream",
          "name": "stdout",
          "text": [
            "Epoch 0/100, RunningLoss: 530.7615, CurrentLoss(0.3393), memoryallocated19099648\n",
            "Epoch 1/100, RunningLoss: 898.7869, CurrentLoss(0.2010), memoryallocated19099648\n",
            "Epoch 2/100, RunningLoss: 1226.8123, CurrentLoss(0.2836), memoryallocated19099648\n",
            "Epoch 3/100, RunningLoss: 1533.2661, CurrentLoss(0.3472), memoryallocated19099648\n",
            "Epoch 4/100, RunningLoss: 1819.7913, CurrentLoss(0.4858), memoryallocated19099648\n",
            "Epoch 5/100, RunningLoss: 2091.2678, CurrentLoss(0.3537), memoryallocated19099648\n",
            "Epoch 6/100, RunningLoss: 2352.5838, CurrentLoss(0.1526), memoryallocated18895360\n",
            "Epoch 7/100, RunningLoss: 2603.0363, CurrentLoss(0.4485), memoryallocated19099648\n",
            "Epoch 8/100, RunningLoss: 2841.5908, CurrentLoss(0.3208), memoryallocated19099648\n",
            "Epoch 9/100, RunningLoss: 3072.1734, CurrentLoss(0.1176), memoryallocated19099648\n",
            "Epoch 10/100, RunningLoss: 3299.4228, CurrentLoss(0.1432), memoryallocated19099648\n",
            "Epoch 11/100, RunningLoss: 3516.5069, CurrentLoss(0.2133), memoryallocated19099648\n",
            "Epoch 12/100, RunningLoss: 3727.2488, CurrentLoss(0.2983), memoryallocated19099648\n",
            "Epoch 13/100, RunningLoss: 3929.6444, CurrentLoss(0.1206), memoryallocated19099648\n",
            "Epoch 14/100, RunningLoss: 4125.2028, CurrentLoss(0.1828), memoryallocated19099648\n",
            "Epoch 15/100, RunningLoss: 4315.4658, CurrentLoss(0.3489), memoryallocated19099648\n",
            "Epoch 16/100, RunningLoss: 4501.8798, CurrentLoss(0.0893), memoryallocated19099648\n",
            "Epoch 17/100, RunningLoss: 4680.7165, CurrentLoss(0.2483), memoryallocated19099648\n",
            "Epoch 18/100, RunningLoss: 4855.1746, CurrentLoss(0.4767), memoryallocated18895360\n",
            "Epoch 19/100, RunningLoss: 5024.0071, CurrentLoss(0.1470), memoryallocated19099648\n",
            "Epoch 20/100, RunningLoss: 5189.8645, CurrentLoss(0.1205), memoryallocated19099648\n",
            "Epoch 21/100, RunningLoss: 5350.6867, CurrentLoss(0.0783), memoryallocated19099648\n",
            "Epoch 22/100, RunningLoss: 5506.0804, CurrentLoss(0.0762), memoryallocated19099648\n",
            "Epoch 23/100, RunningLoss: 5658.0666, CurrentLoss(0.2191), memoryallocated18895360\n",
            "Epoch 24/100, RunningLoss: 5805.6138, CurrentLoss(0.2773), memoryallocated19099648\n",
            "Epoch 25/100, RunningLoss: 5950.9448, CurrentLoss(0.1980), memoryallocated18895360\n",
            "Epoch 26/100, RunningLoss: 6092.7810, CurrentLoss(0.1472), memoryallocated19099648\n",
            "Epoch 27/100, RunningLoss: 6228.6889, CurrentLoss(0.2534), memoryallocated19099648\n",
            "Epoch 28/100, RunningLoss: 6361.3472, CurrentLoss(0.1878), memoryallocated18895360\n",
            "Epoch 29/100, RunningLoss: 6490.4089, CurrentLoss(0.1589), memoryallocated19099648\n",
            "Epoch 30/100, RunningLoss: 6615.8977, CurrentLoss(0.0486), memoryallocated19099648\n",
            "Epoch 31/100, RunningLoss: 6739.7186, CurrentLoss(0.2681), memoryallocated18895360\n",
            "Epoch 32/100, RunningLoss: 6859.4893, CurrentLoss(0.1573), memoryallocated19099648\n",
            "Epoch 33/100, RunningLoss: 6975.7302, CurrentLoss(0.1394), memoryallocated19099648\n",
            "Epoch 34/100, RunningLoss: 7091.2774, CurrentLoss(0.1716), memoryallocated19099648\n",
            "Epoch 35/100, RunningLoss: 7204.3137, CurrentLoss(0.0762), memoryallocated19099648\n",
            "Epoch 36/100, RunningLoss: 7314.5140, CurrentLoss(0.0882), memoryallocated19099648\n",
            "Epoch 37/100, RunningLoss: 7424.9622, CurrentLoss(0.2862), memoryallocated19099648\n",
            "Epoch 38/100, RunningLoss: 7526.9339, CurrentLoss(0.1171), memoryallocated19099648\n",
            "Epoch 39/100, RunningLoss: 7627.0890, CurrentLoss(0.0468), memoryallocated19099648\n",
            "Epoch 40/100, RunningLoss: 7729.3417, CurrentLoss(0.1035), memoryallocated19099648\n",
            "Epoch 41/100, RunningLoss: 7826.6674, CurrentLoss(0.3186), memoryallocated19099648\n",
            "Epoch 42/100, RunningLoss: 7921.9037, CurrentLoss(0.2772), memoryallocated19099648\n",
            "Epoch 43/100, RunningLoss: 8017.9727, CurrentLoss(0.1852), memoryallocated19099648\n",
            "Epoch 44/100, RunningLoss: 8109.8329, CurrentLoss(0.0416), memoryallocated19099648\n",
            "Epoch 45/100, RunningLoss: 8198.8870, CurrentLoss(0.0458), memoryallocated19099648\n",
            "Epoch 46/100, RunningLoss: 8287.8259, CurrentLoss(0.1692), memoryallocated19099648\n",
            "Epoch 47/100, RunningLoss: 8377.2074, CurrentLoss(0.0768), memoryallocated19099648\n",
            "Epoch 48/100, RunningLoss: 8461.2091, CurrentLoss(0.2305), memoryallocated19099648\n",
            "Epoch 49/100, RunningLoss: 8542.9409, CurrentLoss(0.0399), memoryallocated19099648\n",
            "Epoch 50/100, RunningLoss: 8626.8324, CurrentLoss(0.0694), memoryallocated19099648\n",
            "Epoch 51/100, RunningLoss: 8707.1503, CurrentLoss(0.0161), memoryallocated19099648\n",
            "Epoch 52/100, RunningLoss: 8787.4797, CurrentLoss(0.0981), memoryallocated19099648\n",
            "Epoch 53/100, RunningLoss: 8866.5097, CurrentLoss(0.1422), memoryallocated19099648\n",
            "Epoch 54/100, RunningLoss: 8941.5581, CurrentLoss(0.1167), memoryallocated19099648\n",
            "Epoch 55/100, RunningLoss: 9015.8465, CurrentLoss(0.1303), memoryallocated19099648\n",
            "Epoch 56/100, RunningLoss: 9090.2538, CurrentLoss(0.2999), memoryallocated18895360\n",
            "Epoch 57/100, RunningLoss: 9164.4164, CurrentLoss(0.1101), memoryallocated19099648\n",
            "Epoch 58/100, RunningLoss: 9237.9867, CurrentLoss(0.0300), memoryallocated19099648\n",
            "Epoch 59/100, RunningLoss: 9304.1405, CurrentLoss(0.0244), memoryallocated18895360\n",
            "Epoch 60/100, RunningLoss: 9375.5698, CurrentLoss(0.1751), memoryallocated19099648\n",
            "Epoch 61/100, RunningLoss: 9443.7163, CurrentLoss(0.1103), memoryallocated19099648\n",
            "Epoch 62/100, RunningLoss: 9509.2037, CurrentLoss(0.0629), memoryallocated19099648\n",
            "Epoch 63/100, RunningLoss: 9572.8103, CurrentLoss(0.0891), memoryallocated19099648\n",
            "Epoch 64/100, RunningLoss: 9636.9143, CurrentLoss(0.0393), memoryallocated19099648\n",
            "Epoch 65/100, RunningLoss: 9700.3003, CurrentLoss(0.0288), memoryallocated19099648\n",
            "Epoch 66/100, RunningLoss: 9762.4777, CurrentLoss(0.0114), memoryallocated19099648\n",
            "Epoch 67/100, RunningLoss: 9825.4435, CurrentLoss(0.1832), memoryallocated19099648\n",
            "Epoch 68/100, RunningLoss: 9888.6931, CurrentLoss(0.0379), memoryallocated18895360\n",
            "Epoch 69/100, RunningLoss: 9949.0220, CurrentLoss(0.0221), memoryallocated19099648\n",
            "Epoch 70/100, RunningLoss: 10006.0472, CurrentLoss(0.0841), memoryallocated19099648\n",
            "Epoch 71/100, RunningLoss: 10061.6778, CurrentLoss(0.0652), memoryallocated19099648\n",
            "Epoch 72/100, RunningLoss: 10119.4215, CurrentLoss(0.0678), memoryallocated19099648\n",
            "Epoch 73/100, RunningLoss: 10180.9266, CurrentLoss(0.1777), memoryallocated19099648\n",
            "Epoch 74/100, RunningLoss: 10237.1695, CurrentLoss(0.0727), memoryallocated19099648\n",
            "Epoch 75/100, RunningLoss: 10291.0142, CurrentLoss(0.0740), memoryallocated19099648\n",
            "Epoch 76/100, RunningLoss: 10344.6155, CurrentLoss(0.0040), memoryallocated19099648\n",
            "Epoch 77/100, RunningLoss: 10399.9123, CurrentLoss(0.0528), memoryallocated19099648\n",
            "Epoch 78/100, RunningLoss: 10452.2392, CurrentLoss(0.0156), memoryallocated19099648\n",
            "Epoch 79/100, RunningLoss: 10505.9470, CurrentLoss(0.0097), memoryallocated19099648\n",
            "Epoch 80/100, RunningLoss: 10557.2990, CurrentLoss(0.1039), memoryallocated19099648\n",
            "Epoch 81/100, RunningLoss: 10607.4420, CurrentLoss(0.0100), memoryallocated19099648\n",
            "Epoch 82/100, RunningLoss: 10659.9962, CurrentLoss(0.0437), memoryallocated19099648\n",
            "Epoch 83/100, RunningLoss: 10707.3506, CurrentLoss(0.0463), memoryallocated19099648\n",
            "Epoch 84/100, RunningLoss: 10759.8257, CurrentLoss(0.0388), memoryallocated18895360\n",
            "Epoch 85/100, RunningLoss: 10804.3761, CurrentLoss(0.0871), memoryallocated19099648\n",
            "Epoch 86/100, RunningLoss: 10856.7540, CurrentLoss(0.0412), memoryallocated18895360\n",
            "Epoch 87/100, RunningLoss: 10900.7233, CurrentLoss(0.1824), memoryallocated19099648\n",
            "Epoch 88/100, RunningLoss: 10952.1165, CurrentLoss(0.1051), memoryallocated19099648\n",
            "Epoch 89/100, RunningLoss: 10993.6891, CurrentLoss(0.0767), memoryallocated19099648\n",
            "Epoch 90/100, RunningLoss: 11042.0281, CurrentLoss(0.0517), memoryallocated18895360\n",
            "Epoch 91/100, RunningLoss: 11084.0097, CurrentLoss(0.0025), memoryallocated19099648\n",
            "Epoch 92/100, RunningLoss: 11136.4077, CurrentLoss(0.0041), memoryallocated19099648\n",
            "Epoch 93/100, RunningLoss: 11175.7523, CurrentLoss(0.0002), memoryallocated19099648\n",
            "Epoch 94/100, RunningLoss: 11227.9370, CurrentLoss(0.0283), memoryallocated19099648\n",
            "Epoch 95/100, RunningLoss: 11270.5783, CurrentLoss(0.0076), memoryallocated19099648\n",
            "Epoch 96/100, RunningLoss: 11312.1479, CurrentLoss(0.0597), memoryallocated19099648\n",
            "Epoch 97/100, RunningLoss: 11354.6038, CurrentLoss(0.0226), memoryallocated19099648\n",
            "Epoch 98/100, RunningLoss: 11396.4274, CurrentLoss(0.0916), memoryallocated19099648\n",
            "Epoch 99/100, RunningLoss: 11439.1013, CurrentLoss(0.1009), memoryallocated18895360\n",
            "Average loss per batch: 114.39101281529031\n"
          ]
        }
      ]
    },
    {
      "cell_type": "code",
      "source": [
        "model.eval() #set the model to evaluation mode. Faster, more memory-efficient\n",
        "correct = 0\n",
        "total = 0\n",
        "\n",
        "with torch.no_grad(): #turned off gradient tracking.\n",
        "  for images, labels in test_loader: #used test_loader.\n",
        "    images = images.to(device)\n",
        "    labels = labels.to(device) #common setup.\n",
        "\n",
        "    outputs = model(images) #forward pass, or prediction\n",
        "    _, predicted = torch.max(outputs, 1)\n",
        "    total += labels.size(0)\n",
        "    correct += (predicted == labels).sum().item()\n",
        "\n",
        "  print(\"Test accuracy: {}\".format(100 * correct / total))"
      ],
      "metadata": {
        "id": "Iw6ReNYvcV2P",
        "colab": {
          "base_uri": "https://localhost:8080/"
        },
        "outputId": "be7bfd39-8630-4b6f-dca7-fb9f025f1be1"
      },
      "execution_count": null,
      "outputs": [
        {
          "output_type": "stream",
          "name": "stdout",
          "text": [
            "Test accuracy: 88.35\n"
          ]
        }
      ]
    },
    {
      "cell_type": "code",
      "source": [
        "torch.save(model.state_dict(), \"model.pth\")"
      ],
      "metadata": {
        "id": "YqNzLnhUi0gO"
      },
      "execution_count": null,
      "outputs": []
    },
    {
      "cell_type": "code",
      "source": [],
      "metadata": {
        "id": "jwSpsnv788Mv"
      },
      "execution_count": null,
      "outputs": []
    },
    {
      "cell_type": "code",
      "source": [
        "from google.colab import drive\n",
        "drive.mount('/content/drive')\n",
        "import os\n",
        "torch.save(model.state_dict(), '/content/drive/MyDrive/artificialintelligence/pytorchtest/model.pth')"
      ],
      "metadata": {
        "colab": {
          "base_uri": "https://localhost:8080/"
        },
        "id": "udPvdSwNBZ4L",
        "outputId": "14156a52-f49b-4c89-bdfa-fc58b73f930f"
      },
      "execution_count": null,
      "outputs": [
        {
          "output_type": "stream",
          "name": "stdout",
          "text": [
            "Drive already mounted at /content/drive; to attempt to forcibly remount, call drive.mount(\"/content/drive\", force_remount=True).\n"
          ]
        }
      ]
    },
    {
      "cell_type": "code",
      "source": [],
      "metadata": {
        "id": "Dvj7nVvSBp0N"
      },
      "execution_count": null,
      "outputs": []
    }
  ]
}