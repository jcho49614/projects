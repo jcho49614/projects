


!pip list


import tensorflow as tf
import os



