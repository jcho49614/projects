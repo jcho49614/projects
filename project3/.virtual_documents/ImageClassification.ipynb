!pip install tensorflow opencv-python matplotlib


!pip list



