{
 "cells": [
  {
   "cell_type": "code",
   "execution_count": 1,
   "id": "11734ed4-337e-469d-ba2e-3f7825a86cdf",
   "metadata": {},
   "outputs": [
    {
     "name": "stdout",
     "output_type": "stream",
     "text": [
      "Package                 Version\n",
      "----------------------- -----------\n",
      "absl-py                 2.2.2\n",
      "astunparse              1.6.3\n",
      "certifi                 2025.4.26\n",
      "charset-normalizer      3.4.2\n",
      "contourpy               1.3.2\n",
      "cycler                  0.12.1\n",
      "flatbuffers             25.2.10\n",
      "fonttools               4.58.0\n",
      "gast                    0.6.0\n",
      "google-pasta            0.2.0\n",
      "grpcio                  1.71.0\n",
      "h5py                    3.13.0\n",
      "idna                    3.10\n",
      "keras                   3.9.2\n",
      "kiwisolver              1.4.8\n",
      "libclang                18.1.1\n",
      "Markdown                3.8\n",
      "markdown-it-py          3.0.0\n",
      "MarkupSafe              3.0.2\n",
      "matplotlib              3.10.3\n",
      "mdurl                   0.1.2\n",
      "ml_dtypes               0.5.1\n",
      "namex                   0.0.9\n",
      "numpy                   2.1.3\n",
      "opencv-python           4.11.0.86\n",
      "opt_einsum              3.4.0\n",
      "optree                  0.15.0\n",
      "packaging               25.0\n",
      "pillow                  11.2.1\n",
      "pip                     24.2\n",
      "protobuf                5.29.4\n",
      "Pygments                2.19.1\n",
      "pyparsing               3.2.3\n",
      "python-dateutil         2.9.0.post0\n",
      "requests                2.32.3\n",
      "rich                    14.0.0\n",
      "setuptools              80.4.0\n",
      "six                     1.17.0\n",
      "tensorboard             2.19.0\n",
      "tensorboard-data-server 0.7.2\n",
      "tensorflow              2.19.0\n",
      "termcolor               3.1.0\n",
      "typing_extensions       4.13.2\n",
      "urllib3                 2.4.0\n",
      "Werkzeug                3.1.3\n",
      "wheel                   0.45.1\n",
      "wrapt                   1.17.2\n"
     ]
    }
   ],
   "source": [
    "!pip list"
   ]
  },
  {
   "cell_type": "code",
   "execution_count": 3,
   "id": "9dad93cb-0d15-45a8-9786-e6f5dee91e5c",
   "metadata": {
    "scrolled": true
   },
   "outputs": [
    {
     "ename": "ModuleNotFoundError",
     "evalue": "No module named 'tensorflow'",
     "output_type": "error",
     "traceback": [
      "\u001b[1;31m---------------------------------------------------------------------------\u001b[0m",
      "\u001b[1;31mModuleNotFoundError\u001b[0m                       Traceback (most recent call last)",
      "Cell \u001b[1;32mIn[3], line 1\u001b[0m\n\u001b[1;32m----> 1\u001b[0m \u001b[38;5;28;01mimport\u001b[39;00m \u001b[38;5;21;01mtensorflow\u001b[39;00m \u001b[38;5;28;01mas\u001b[39;00m \u001b[38;5;21;01mtf\u001b[39;00m\n\u001b[0;32m      2\u001b[0m \u001b[38;5;28;01mimport\u001b[39;00m \u001b[38;5;21;01mos\u001b[39;00m\n",
      "\u001b[1;31mModuleNotFoundError\u001b[0m: No module named 'tensorflow'"
     ]
    }
   ],
   "source": [
    "import tensorflow as tf\n",
    "import os"
   ]
  },
  {
   "cell_type": "code",
   "execution_count": null,
   "id": "6dd7251c-fab4-4029-91e9-7c798fd8afac",
   "metadata": {},
   "outputs": [],
   "source": []
  }
 ],
 "metadata": {
  "kernelspec": {
   "display_name": "venv",
   "language": "python",
   "name": "venv"
  },
  "language_info": {
   "codemirror_mode": {
    "name": "ipython",
    "version": 3
   },
   "file_extension": ".py",
   "mimetype": "text/x-python",
   "name": "python",
   "nbconvert_exporter": "python",
   "pygments_lexer": "ipython3",
   "version": "3.12.7"
  }
 },
 "nbformat": 4,
 "nbformat_minor": 5
}
