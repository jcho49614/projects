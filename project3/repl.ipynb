{
 "cells": [
  {
   "cell_type": "code",
   "execution_count": 23,
   "id": "97d7cb56",
   "metadata": {},
   "outputs": [],
   "source": [
    "import tensorflow as tf\n",
    "import os\n",
    "from IPython.display import Image, display #not included!\n",
    "import imghdr\n",
    "import cv2"
   ]
  },
  {
   "cell_type": "code",
   "execution_count": 24,
   "id": "5f864dc4",
   "metadata": {},
   "outputs": [],
   "source": [
    "testing = 'data'\n",
    "valid_exts = ['jpg', 'jpeg', 'png']\n",
    "cnt = 0"
   ]
  },
  {
   "cell_type": "code",
   "execution_count": 25,
   "id": "9642c46f",
   "metadata": {},
   "outputs": [],
   "source": [
    "# for image_class in os.listdir(testing):\n",
    "#     classdir = os.path.join(testing, image_class)\n",
    "#     for image in os.listdir(classdir):\n",
    "#         if cnt == 1:\n",
    "#             break\n",
    "#         imagedir = os.path.join(classdir, image)\n",
    "#         display(Image(filename=imagedir))\n",
    "#         cnt += 1\n",
    "\n",
    "#go from datafolder --> individual class --> image\n",
    "#don't run this -- outputs image."
   ]
  },
  {
   "cell_type": "code",
   "execution_count": null,
   "id": "716e63c1",
   "metadata": {},
   "outputs": [],
   "source": [
    " for image_class in os.listdir(testing):\n",
    "    classdir = os.path.join(testing, image_class)\n",
    "    for image in os.listdir(classdir):\n",
    "        imagedir = os.path.join(classdir, image)\n",
    "        image = cv2.imread(imagedir)\n",
    "        extension = imghdr.what(imagedir)\n",
    "        if extension not in valid_exts:\n",
    "            print(\"Image {} is not valid!\", format(imagedir))\n",
    "        elif image is None:\n",
    "            print(\"Image {} is not valid!\", format(imagedir))\n",
    "\n",
    "            #works!"
   ]
  },
  {
   "cell_type": "code",
   "execution_count": null,
   "id": "27413c81",
   "metadata": {},
   "outputs": [],
   "source": []
  }
 ],
 "metadata": {
  "kernelspec": {
   "display_name": "venv",
   "language": "python",
   "name": "python3"
  },
  "language_info": {
   "codemirror_mode": {
    "name": "ipython",
    "version": 3
   },
   "file_extension": ".py",
   "mimetype": "text/x-python",
   "name": "python",
   "nbconvert_exporter": "python",
   "pygments_lexer": "ipython3",
   "version": "3.12.7"
  }
 },
 "nbformat": 4,
 "nbformat_minor": 5
}
